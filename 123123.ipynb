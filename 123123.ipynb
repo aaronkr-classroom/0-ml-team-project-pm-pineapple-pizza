{
 "cells": [
  {
   "cell_type": "markdown",
   "id": "fe1c25bf",
   "metadata": {},
   "source": [
    "## 1주차 (10/31): 프로젝트 주제 선정 및 데이터셋 선택\n",
    "### 프로젝트 주제: 보스턴 주택 가격 예측\n",
    "이 프로젝트는 보스턴 주택 가격을 예측하는 회귀 모델을 개발하는 것을 목표로 합니다.\n",
    "\n",
    "### 데이터셋 설명\n",
    "- **출처**: 보스턴 주택 가격 데이터\n",
    "- **타겟 변수**: `medv` (주택 가격)\n",
    "- **특성**: 범죄율, 방 개수, 찰스강 근처 여부, 세율 등 다양한 지표"
   ]
  },
  {
   "cell_type": "markdown",
   "id": "71faf7d6",
   "metadata": {},
   "source": [
    "## 2주차 (11/7): 데이터셋 탐색 및 전처리\n",
    "데이터를 불러오고, 기본적인 탐색적 데이터 분석(EDA)을 수행하며, 필요한 전처리를 진행합니다."
   ]
  },
  {
   "cell_type": "markdown",
   "id": "1161fa4a",
   "metadata": {},
   "source": [
    "## 3주차 (11/14): 모델 선택 및 초기 설계\n",
    "회귀 문제에 적합한 모델을 선택하고 초기 설계를 진행합니다."
   ]
  },
  {
   "cell_type": "markdown",
   "id": "12778f75",
   "metadata": {},
   "source": [
    "## 4주차 (11/21): 특성 엔지니어링 및 모델 튜닝\n",
    "특성 엔지니어링과 하이퍼파라미터 튜닝을 통해 모델 성능을 개선합니다."
   ]
  },
  {
   "cell_type": "markdown",
   "id": "e9d98697",
   "metadata": {},
   "source": [
    "## 5주차 (11/28): 최종 튜닝 및 모델 결정\n",
    "최종 하이퍼파라미터 튜닝을 수행하고 최적 모델을 결정합니다."
   ]
  },
  {
   "cell_type": "markdown",
   "id": "a891015f",
   "metadata": {},
   "source": [
    "## 6주차 (12/5): 프로젝트 보고서 준비 및 발표 자료 제작\n",
    "모델 성능 지표와 시각화를 포함한 보고서를 준비하고 발표 자료를 제작합니다."
   ]
  },
  {
   "cell_type": "markdown",
   "id": "071bf8f7",
   "metadata": {},
   "source": [
    "## 7주차 (12/12): 프로젝트 보고서 제출 및 발표\n",
    "최종 보고서를 제출하고 프로젝트 결과를 발표합니다."
   ]
  },
  {
   "cell_type": "code",
   "execution_count": null,
   "id": "c2afecfc",
   "metadata": {},
   "outputs": [],
   "source": [
    "# Pyhthon 3.7 모델 설치\n",
    "import sys\n",
    "\n",
    "assert sys.version_info >= (3, 7)"
   ]
  },
  {
   "cell_type": "code",
   "execution_count": null,
   "id": "41db5190",
   "metadata": {},
   "outputs": [],
   "source": [
    "!pip install tensorflow\n",
    "\n",
    "from packaging import version\n",
    "import tensorflow as tf\n",
    "\n",
    "assert version.parse(tf.__version__) >= version.parse(\"2.8.0\")"
   ]
  },
  {
   "cell_type": "code",
   "execution_count": null,
   "id": "4135e365",
   "metadata": {},
   "outputs": [],
   "source": [
    "import sys\n",
    "# google colab의 경우 나눔 폰트를 설치\n",
    "if 'google.colab' in sys.modules:\n",
    "    !sudo apt-get -qq -y install fonts-nanum\n",
    "    import matplotlib.font_manager as fm\n",
    "    font_files = fm.findSystemFonts(fontpaths=['/usr/share/fonts/truetype/nanum'])\n",
    "    for fpath in font_files:\n",
    "        fm.fontManager.addfont(fpath)\n",
    "\n",
    "# 나눔 폰트를 사용\n",
    "import matplotlib\n",
    "\n",
    "matplotlib.rc('font', family='NanumBarunGothic')\n",
    "matplotlib.rcParams['axes.unicode_minus'] = False"
   ]
  },
  {
   "cell_type": "code",
   "execution_count": null,
   "id": "a74204ef",
   "metadata": {},
   "outputs": [],
   "source": [
    "# 모델 튜닝을 위해 keras-tuner를 설치\n",
    "!pip install keras-tuner"
   ]
  },
  {
   "cell_type": "code",
   "execution_count": null,
   "id": "f77d1033",
   "metadata": {},
   "outputs": [],
   "source": [
    "import sys\n",
    "\n",
    "if 'google.colab' in sys.modules:\n",
    "    from google.colab import files\n",
    "    # Colab에서 필요한 추가 코드 (예: 파일 업로드)\n",
    "    uploaded = files.upload()\n",
    "else:\n",
    "    print(\"This code is not running in Google Colab.\")\n"
   ]
  },
  {
   "cell_type": "code",
   "execution_count": null,
   "id": "96772a73",
   "metadata": {},
   "outputs": [],
   "source": [
    "import pandas as pd\n",
    "\n",
    "df = pd.read_csv(\"datasets/BostonHousing.csv\")\n",
    "X = df.iloc[:, :-1].values  # 입력 특성\n",
    "y = df.iloc[:, -1].values  # 출력 값"
   ]
  },
  {
   "cell_type": "code",
   "execution_count": null,
   "id": "4a30cf42",
   "metadata": {},
   "outputs": [],
   "source": [
    "import pandas as pd\n",
    "import numpy as np\n",
    "import tensorflow as tf\n",
    "import keras_tuner as kt\n",
    "from tensorflow.keras import layers\n",
    "from sklearn.preprocessing import StandardScaler\n",
    "from sklearn.model_selection import train_test_split\n",
    "\n",
    "# 데이터 로드\n",
    "df = pd.read_csv(\"datasets/BostonHousing.csv\")\n",
    "X = df.iloc[:, :-1].values  # 입력 특성\n",
    "y = df.iloc[:, -1].values  # 출력 값\n",
    "\n",
    "# 데이터 분리\n",
    "X_train_full, X_test, y_train_full, y_test = train_test_split(X, y, test_size=0.2, random_state=42)\n",
    "X_train, X_valid, y_train, y_valid = train_test_split(X_train_full, y_train_full, test_size=0.2, random_state=42)\n",
    "\n",
    "# 데이터 스케일링\n",
    "scaler = StandardScaler()\n",
    "X_train_scaled = np.nan_to_num(scaler.fit_transform(X_train))\n",
    "X_valid_scaled = np.nan_to_num(scaler.transform(X_valid))\n",
    "X_test_scaled = np.nan_to_num(scaler.transform(X_test))\n",
    "y_train = np.nan_to_num(y_train)\n",
    "y_valid = np.nan_to_num(y_valid)\n",
    "y_test = np.nan_to_num(y_test)\n",
    "\n",
    "# 사용자 정의 HuberLoss 함수\n",
    "class HuberLoss(tf.keras.losses.Loss):\n",
    "    def __init__(self, threshold=1.0, **kwargs):\n",
    "        self.threshold = threshold\n",
    "        super().__init__(**kwargs)\n",
    "\n",
    "    def call(self, y_true, y_pred):\n",
    "        error = y_true - y_pred\n",
    "        is_small_error = tf.abs(error) < self.threshold\n",
    "        squared_loss = tf.square(error) / 2\n",
    "        linear_loss = self.threshold * tf.abs(error) - self.threshold**2 / 2\n",
    "        return tf.where(is_small_error, squared_loss, linear_loss)\n",
    "\n",
    "    def get_config(self):\n",
    "        base_config = super().get_config()\n",
    "        return {**base_config, \"threshold\": self.threshold}\n",
    "\n",
    "# 모델 구조 정의\n",
    "def build_model(hp):\n",
    "    n_hidden = hp.Int(\"n_hidden\", min_value=0, max_value=8, default=2)\n",
    "    n_neurons = hp.Int(\"n_neurons\", min_value=16, max_value=256, step=16)\n",
    "    learning_rate = hp.Float(\"learning_rate\", min_value=1e-5, max_value=1e-3, sampling=\"log\")\n",
    "    optimizer = hp.Choice(\"optimizer\", values=[\"adam\", \"sgd\"])\n",
    "\n",
    "    if optimizer == \"sgd\":\n",
    "        optimizer = tf.keras.optimizers.SGD(learning_rate=learning_rate)\n",
    "    else:\n",
    "        optimizer = tf.keras.optimizers.Adam(learning_rate=learning_rate)\n",
    "\n",
    "    model = tf.keras.Sequential()\n",
    "    model.add(tf.keras.layers.Flatten(input_shape=(X_train_scaled.shape[1],)))\n",
    "    for _ in range(n_hidden):\n",
    "        model.add(tf.keras.layers.Dense(n_neurons, activation=\"relu\", kernel_initializer=\"he_normal\"))\n",
    "    model.add(tf.keras.layers.Dense(1))\n",
    "\n",
    "    loss = HuberLoss(threshold=hp.Float(\"threshold\", min_value=0.5, max_value=5.0, step=0.5))\n",
    "    model.compile(loss=loss, optimizer=optimizer, metrics=[\"mae\"])\n",
    "    return model\n",
    "\n",
    "# 이 문단부터 하이퍼 파라미터\n",
    "# Keras Tuner 설정\n",
    "tuner = kt.Hyperband(\n",
    "    build_model,\n",
    "    objective=\"val_mae\",\n",
    "    max_epochs=20,\n",
    "    factor=3,\n",
    "    directory=\"tuner_dir\",\n",
    "    project_name=\"huber_loss_tuning\",\n",
    "    max_consecutive_failed_trials=10\n",
    ")\n",
    "\n",
    "# 하이퍼파라미터 검색 실행\n",
    "tuner.search(\n",
    "    X_train_scaled, y_train,\n",
    "    validation_data=(X_valid_scaled, y_valid),\n",
    "    verbose=2\n",
    ")\n",
    "\n",
    "# 최적의 하이퍼파라미터로 모델 재설정 및 훈련\n",
    "best_hps = tuner.get_best_hyperparameters(num_trials=1)[0]\n",
    "model = build_model(best_hps)\n",
    "history = model.fit(X_train_scaled, y_train, validation_data=(X_valid_scaled, y_valid), epochs=20)\n",
    "\n",
    "# 모델 평가\n",
    "test_loss, test_mae = model.evaluate(X_test_scaled, y_test)\n",
    "\n",
    "# 모델 저장\n",
    "model.save(\"final_model.keras\")\n",
    "\n",
    "# 최종 평가 결과 출력\n",
    "print(f\"Test loss: {test_loss}\")\n",
    "print(f\"Test MAE: {test_mae}\")\n"
   ]
  },
  {
   "cell_type": "code",
   "execution_count": null,
   "id": "9282b581",
   "metadata": {},
   "outputs": [],
   "source": [
    "results = {\"Metric\": [\"Test Loss\", \"Test MAE\"], \"Value\": [test_loss, test_mae]}\n",
    "df = pd.DataFrame(results)\n",
    "df.to_csv(\"results.csv\", index=False)\n",
    "\n",
    "# CSV 다운로드\n",
    "files.download(\"results.csv\")"
   ]
  },
  {
   "cell_type": "code",
   "execution_count": null,
   "id": "59af05af",
   "metadata": {
    "colab": {
     "base_uri": "https://localhost:8080/"
    },
    "id": "yfrdv1tXEyvr",
    "outputId": "fe483211-1154-4b0e-8cf9-080a7fc6a1b8"
   },
   "outputs": [],
   "source": [
    "print(\"Train Datas Shape : {}\".format(train_data.shape))\n",
    "print(\"Train Labels Shape : {}\".format(train_targets.shape))"
   ]
  },
  {
   "cell_type": "code",
   "execution_count": null,
   "id": "70f6bc19",
   "metadata": {
    "colab": {
     "base_uri": "https://localhost:8080/",
     "height": 88
    },
    "id": "Nh3LRncdE3h5",
    "outputId": "ae9fefd0-472c-4e3a-c6ab-a3f289797f30"
   },
   "outputs": [],
   "source": [
    "display(train_data[0])\n",
    "display(train_targets[0:10])"
   ]
  },
  {
   "cell_type": "code",
   "execution_count": null,
   "id": "bb0f6f77",
   "metadata": {
    "id": "jrzasALvE7Co"
   },
   "outputs": [],
   "source": [
    "mean = train_data.mean(axis=0)\n",
    "train_data -= mean\n",
    "std = train_data.std(axis=0)\n",
    "train_data /= std\n",
    "\n",
    "test_data -= mean\n",
    "test_data /= std\n"
   ]
  },
  {
   "cell_type": "code",
   "execution_count": null,
   "id": "dcd11f02",
   "metadata": {
    "id": "_ruNXmHnFD1R"
   },
   "outputs": [],
   "source": [
    "from tensorflow.keras import models\n",
    "from tensorflow.keras import layers\n",
    "\n",
    "def build_network(input_shape=(0,)):\n",
    "    model = models.Sequential()\n",
    "    model.add(layers.Dense(64, activation='relu', input_shape=input_shape))\n",
    "    model.add(layers.Dense(64, activation='relu'))\n",
    "    model.add(layers.Dense(1))\n",
    "    model.compile(optimizer='adam', loss='mse', metrics=['mae'])\n",
    "    return model"
   ]
  },
  {
   "cell_type": "code",
   "execution_count": null,
   "id": "d97012c7",
   "metadata": {
    "colab": {
     "base_uri": "https://localhost:8080/"
    },
    "id": "eLmZneMKFGRJ",
    "outputId": "41238da6-74a8-4a95-a130-1b46f610cf43"
   },
   "outputs": [],
   "source": [
    "import numpy as np\n",
    "\n",
    "k = 4\n",
    "num_val_samples = len(train_data) // k\n",
    "num_epochs = 150\n",
    "all_scores = []\n",
    "all_history = []\n",
    "for i in range(k):\n",
    "    print('폴드 번호 #{}'.format(i))\n",
    "    fold_start_index = i * num_val_samples\n",
    "    fold_end_index = (i + 1) * num_val_samples\n",
    "\n",
    "    val_data = train_data[fold_start_index : fold_end_index]\n",
    "    val_targets = train_targets[fold_start_index : fold_end_index]\n",
    "\n",
    "    partial_train_data = np.concatenate(\n",
    "        [train_data[:fold_start_index], train_data[fold_end_index:]],\n",
    "        axis=0\n",
    "    )\n",
    "\n",
    "    partial_train_targets = np.concatenate(\n",
    "        [train_targets[:fold_start_index], train_targets[fold_end_index:]],\n",
    "        axis=0\n",
    "    )\n",
    "\n",
    "    model = build_network((partial_train_data.shape[1], ))\n",
    "    history = model.fit(\n",
    "        partial_train_data,\n",
    "        partial_train_targets,\n",
    "        epochs=num_epochs,\n",
    "        validation_data=(val_data, val_targets),\n",
    "        batch_size=1,\n",
    "        verbose=0\n",
    "    )\n",
    "    val_mse, val_mae = model.evaluate(val_data, val_targets, verbose=0)\n",
    "    all_scores.append(val_mse)\n",
    "    all_history.append(history.history)"
   ]
  },
  {
   "cell_type": "code",
   "execution_count": null,
   "id": "c3ea1b7c",
   "metadata": {
    "id": "TfqzTstyHhvn"
   },
   "outputs": [],
   "source": [
    "val_mae_lst = [hist['val_mae'] for hist in all_history]\n",
    "val_mae_lst = np.array(list(val_mae_lst))\n",
    "avg_mae = [\n",
    "    np.mean([x[i] for x in val_mae_lst]) for i in range(num_epochs)\n",
    "]"
   ]
  },
  {
   "cell_type": "code",
   "execution_count": null,
   "id": "e9d4155e",
   "metadata": {
    "id": "m2cyza6oHiFk"
   },
   "outputs": [],
   "source": [
    "val_mae_lst = [hist['val_loss'] for hist in all_history]\n",
    "val_mae_lst = np.array(list(val_mae_lst))\n",
    "avg_mae = [\n",
    "    np.mean([x[i] for x in val_mae_lst]) for i in range(num_epochs)\n",
    "]"
   ]
  },
  {
   "cell_type": "code",
   "execution_count": null,
   "id": "06d79f8c",
   "metadata": {
    "id": "W3f6Bq8TFPVL"
   },
   "outputs": [],
   "source": [
    "import matplotlib.pyplot as plt\n",
    "def smooth_curve(points, factor=.9):\n",
    "    smoothed_points = []\n",
    "    for point in points:\n",
    "        if smoothed_points:\n",
    "            previous = smoothed_points[-1]\n",
    "            smoothed_points.append(previous * factor + point * (1 - factor))\n",
    "        else:\n",
    "            smoothed_points.append(point)\n",
    "    return smoothed_points"
   ]
  },
  {
   "cell_type": "code",
   "execution_count": null,
   "id": "b2f68188",
   "metadata": {
    "id": "PKhHApToFR7K"
   },
   "outputs": [],
   "source": [
    "def show_graph(data):\n",
    "    smooth_data = smooth_curve(data)\n",
    "    plt.plot(range(1, len(smooth_data) + 1), smooth_data)\n",
    "    plt.xlabel('Epochs')\n",
    "    plt.ylabel('Validation MAE')\n",
    "    plt.show()"
   ]
  },
  {
   "cell_type": "code",
   "execution_count": null,
   "id": "dd0ce839",
   "metadata": {
    "colab": {
     "base_uri": "https://localhost:8080/",
     "height": 449
    },
    "id": "dxV3MkFmFU-G",
    "outputId": "6d8ab3d5-70b6-402a-98e3-a0364ebe4a35"
   },
   "outputs": [],
   "source": [
    "show_graph(avg_mae[10:])"
   ]
  },
  {
   "cell_type": "markdown",
   "id": "f1855eb9",
   "metadata": {
    "id": "6nKy5IjBKTb9"
   },
   "source": [
    "키 설정\n"
   ]
  },
  {
   "cell_type": "code",
   "execution_count": null,
   "id": "3603fa53",
   "metadata": {
    "colab": {
     "base_uri": "https://localhost:8080/"
    },
    "id": "T2LxoRuVIcbG",
    "outputId": "264d41a3-aeea-4429-e794-387db70254c8"
   },
   "outputs": [],
   "source": [
    "# all_history 내 각 요소의 키를 확인\n",
    "for i, hist in enumerate(all_history):\n",
    "    print(f\"Fold {i} history keys:\", hist.keys())\n"
   ]
  },
  {
   "cell_type": "code",
   "execution_count": null,
   "id": "15d64f7e",
   "metadata": {
    "colab": {
     "base_uri": "https://localhost:8080/"
    },
    "id": "23zk7gLWId_0",
    "outputId": "eb09c568-2a3a-44c7-9961-fef2663b42f7"
   },
   "outputs": [],
   "source": [
    "for i, hist in enumerate(all_history):\n",
    "    print(f\"Fold {i} keys: {list(hist.keys())}\")\n"
   ]
  },
  {
   "cell_type": "code",
   "execution_count": null,
   "id": "ddafc35f",
   "metadata": {
    "id": "aGLNK_f2IjTr"
   },
   "outputs": [],
   "source": [
    "val_mae_lst = [\n",
    "    hist['val_mae'] for hist in all_history if 'val_mae' in hist\n",
    "]\n"
   ]
  },
  {
   "cell_type": "code",
   "execution_count": null,
   "id": "e2ec62e6",
   "metadata": {
    "colab": {
     "base_uri": "https://localhost:8080/"
    },
    "id": "TVfr0ExmImNC",
    "outputId": "18d44579-4bf9-4276-9e53-f1c6858fb9ca"
   },
   "outputs": [],
   "source": [
    "for i, hist in enumerate(all_history):\n",
    "    print(f\"Fold {i} history:\", hist)\n"
   ]
  },
  {
   "cell_type": "code",
   "execution_count": null,
   "id": "fc66bb25",
   "metadata": {
    "colab": {
     "base_uri": "https://localhost:8080/"
    },
    "id": "7GFDJlDZI5mb",
    "outputId": "292b4ec3-7098-44de-d737-741e6da2d941"
   },
   "outputs": [],
   "source": [
    "# 각 폴드의 history에서 키 확인\n",
    "for i, hist in enumerate(all_history):\n",
    "    print(f\"Fold {i} history keys: {list(hist.keys())}\")\n"
   ]
  },
  {
   "cell_type": "code",
   "execution_count": null,
   "id": "b7ff9d61",
   "metadata": {
    "colab": {
     "base_uri": "https://localhost:8080/"
    },
    "id": "S9zU6ZEhI97w",
    "outputId": "05697b1e-bdaa-4940-b6b0-90141afa3783"
   },
   "outputs": [],
   "source": [
    "# val_mae_lst 추출\n",
    "val_mae_lst = [\n",
    "    hist['val_mae'] for hist in all_history if 'val_mae' in hist\n",
    "]\n",
    "\n",
    "# numpy 배열로 변환\n",
    "val_mae_lst = np.array(val_mae_lst)\n",
    "\n",
    "# 에포크별 평균 MAE 계산\n",
    "avg_mae = [\n",
    "    np.mean(val_mae_lst[:, i]) for i in range(val_mae_lst.shape[1])\n",
    "]\n",
    "\n",
    "print(\"에포크별 평균 MAE:\", avg_mae)\n"
   ]
  },
  {
   "cell_type": "code",
   "execution_count": null,
   "id": "99027a85",
   "metadata": {
    "colab": {
     "base_uri": "https://localhost:8080/"
    },
    "id": "ptP_kblzJBIt",
    "outputId": "75c095a6-517a-43ea-8e36-36d8bde5a586"
   },
   "outputs": [],
   "source": [
    "for i, hist in enumerate(all_history):\n",
    "    print(f\"Fold {i} history data:\", hist)\n"
   ]
  },
  {
   "cell_type": "code",
   "execution_count": null,
   "id": "bf64be07",
   "metadata": {
    "id": "npM50SgHJDp5"
   },
   "outputs": [],
   "source": [
    "model.compile(\n",
    "    optimizer='adam',\n",
    "    loss='mse',\n",
    "    metrics=['mean_absolute_error']  # 또는 ['mae']\n",
    ")\n"
   ]
  },
  {
   "cell_type": "code",
   "execution_count": null,
   "id": "22c75ef2",
   "metadata": {
    "colab": {
     "base_uri": "https://localhost:8080/"
    },
    "id": "U3Xqb89RJby5",
    "outputId": "0d02e573-1a1a-4a84-e594-fd4a60aabd98"
   },
   "outputs": [],
   "source": [
    "# 모든 폴드의 history 데이터 확인\n",
    "for i, hist in enumerate(all_history):\n",
    "    print(f\"Fold {i} history:\")\n",
    "    for key, value in hist.items():\n",
    "        print(f\"  {key}: {value[:5]}...\")  # 처음 5개의 값만 출력\n"
   ]
  },
  {
   "cell_type": "code",
   "execution_count": null,
   "id": "b009b19f",
   "metadata": {
    "id": "oq_fnu5QJeqg"
   },
   "outputs": [],
   "source": [
    "val_mae_lst = [\n",
    "    hist['val_mae'] for hist in all_history if 'val_mae' in hist\n",
    "]\n"
   ]
  },
  {
   "cell_type": "code",
   "execution_count": null,
   "id": "0b1e1b09",
   "metadata": {
    "id": "8TaPBwsTJfRY"
   },
   "outputs": [],
   "source": [
    "val_mae_lst = []\n",
    "for hist in all_history:\n",
    "    if 'val_mean_absolute_error' in hist:\n",
    "        val_mae_lst.append(hist['val_mean_absolute_error'])\n",
    "    elif 'val_mae' in hist:  # 다른 대체 키 확인\n",
    "        val_mae_lst.append(hist['val_mae'])\n",
    "    else:\n",
    "        print(\"경고: 이 history에 'val_mean_absolute_error' 또는 'val_mae'가 없습니다.\", hist.keys())\n"
   ]
  },
  {
   "cell_type": "code",
   "execution_count": null,
   "id": "56ea7682",
   "metadata": {
    "id": "6dNbvRheJlXo"
   },
   "outputs": [],
   "source": [
    "model.compile(\n",
    "    optimizer='adam',\n",
    "    loss='mse',\n",
    "    metrics=['mean_absolute_error']  # 또는 'mae'\n",
    ")\n"
   ]
  },
  {
   "cell_type": "code",
   "execution_count": null,
   "id": "51ec0670",
   "metadata": {
    "colab": {
     "base_uri": "https://localhost:8080/"
    },
    "id": "v50hcjueJni_",
    "outputId": "55b0bfc2-88a9-46d1-8b2e-18367dece6bc"
   },
   "outputs": [],
   "source": [
    "# 모든 history 데이터에서 문제가 있는 항목 확인\n",
    "for i, hist in enumerate(all_history):\n",
    "    if not isinstance(hist, dict):\n",
    "        print(f\"Fold {i} 데이터가 잘못되었습니다: {hist}\")\n",
    "    elif 'val_mean_absolute_error' not in hist:\n",
    "        print(f\"Fold {i}에서 'val_mean_absolute_error' 키가 없습니다. 키들: {list(hist.keys())}\")\n"
   ]
  },
  {
   "cell_type": "code",
   "execution_count": null,
   "id": "f4f62b00",
   "metadata": {
    "colab": {
     "base_uri": "https://localhost:8080/"
    },
    "id": "cncA-pwZJsnM",
    "outputId": "68dc1716-e7fc-485a-f46e-64cd1b5fbbfc"
   },
   "outputs": [],
   "source": [
    "# val_mae_lst를 numpy 배열로 변환\n",
    "val_mae_lst = np.array(val_mae_lst)\n",
    "\n",
    "# 에포크별 평균 MAE 계산\n",
    "avg_mae = [\n",
    "    np.mean(val_mae_lst[:, i]) for i in range(val_mae_lst.shape[1])\n",
    "]\n",
    "\n",
    "print(\"에포크별 평균 MAE:\", avg_mae)\n"
   ]
  },
  {
   "cell_type": "code",
   "execution_count": null,
   "id": "9938d0a2",
   "metadata": {
    "id": "3yM8i6Z0bhR0"
   },
   "outputs": [],
   "source": [
    "import sys\n",
    "\n",
    "assert sys.version_info >= (3, 7)"
   ]
  },
  {
   "cell_type": "code",
   "execution_count": null,
   "id": "728f573a",
   "metadata": {
    "id": "Mdqv16K8bj8C"
   },
   "outputs": [],
   "source": [
    "from packaging import version\n",
    "import tensorflow as tf\n",
    "\n",
    "assert version.parse(tf.__version__) >= version.parse(\"2.8.0\")"
   ]
  },
  {
   "cell_type": "code",
   "execution_count": null,
   "id": "f9e0c3c9",
   "metadata": {
    "colab": {
     "base_uri": "https://localhost:8080/"
    },
    "id": "v4_4ppk7bkbw",
    "outputId": "e34db9a1-f43d-4f08-e982-ae1a4ed8dc13"
   },
   "outputs": [],
   "source": [
    "# 코랩의 경우 나눔 폰트를 설치합니다.\n",
    "if 'google.colab' in sys.modules:\n",
    "    !sudo apt-get -qq -y install fonts-nanum\n",
    "    import matplotlib.font_manager as fm\n",
    "    font_files = fm.findSystemFonts(fontpaths=['/usr/share/fonts/truetype/nanum'])\n",
    "    for fpath in font_files:\n",
    "        fm.fontManager.addfont(fpath)\n",
    "\n",
    "# 나눔 폰트를 사용합니다.\n",
    "import matplotlib\n",
    "\n",
    "matplotlib.rc('font', family='NanumBarunGothic')\n",
    "matplotlib.rcParams['axes.unicode_minus'] = False"
   ]
  },
  {
   "cell_type": "code",
   "execution_count": null,
   "id": "5f615641",
   "metadata": {
    "colab": {
     "base_uri": "https://localhost:8080/"
    },
    "id": "RePb0bWCbsOn",
    "outputId": "6f147e4c-9455-4fd9-9098-a30478fe54c3"
   },
   "outputs": [],
   "source": [
    "!pip install keras-tuner"
   ]
  },
  {
   "cell_type": "code",
   "execution_count": null,
   "id": "c950a64d",
   "metadata": {
    "colab": {
     "base_uri": "https://localhost:8080/",
     "height": 77
    },
    "id": "DjOUBtkucz_p",
    "outputId": "9ad27eff-9867-4505-9115-124c165d8b39"
   },
   "outputs": [],
   "source": [
    "from google.colab import files\n",
    "uploaded = files.upload()  # 데이터 파일 업로드\n"
   ]
  },
  {
   "cell_type": "code",
   "execution_count": null,
   "id": "af01d5f3",
   "metadata": {
    "id": "q2Rgn5bDc-D7"
   },
   "outputs": [],
   "source": [
    "import pandas as pd\n",
    "\n",
    "df = pd.read_csv(\"BostonHousingprice.csv\")\n",
    "X = df.iloc[:, :-1].values  # 입력 특성\n",
    "y = df.iloc[:, -1].values  # 출력 값\n"
   ]
  },
  {
   "cell_type": "code",
   "execution_count": null,
   "id": "ac60011d",
   "metadata": {
    "colab": {
     "base_uri": "https://localhost:8080/"
    },
    "id": "0IhrQUCBbEwI",
    "outputId": "21023507-7c68-4773-a530-5d6cf8e0dd68"
   },
   "outputs": [],
   "source": [
    "import keras_tuner as kt\n",
    "from sklearn.preprocessing import StandardScaler\n",
    "from sklearn.model_selection import train_test_split\n",
    "\n",
    "# 데이터 로드\n",
    "df = pd.read_csv(\"BostonHousingprice.csv\")\n",
    "X = df.iloc[:, :-1].values  # 입력 특성\n",
    "y = df.iloc[:, -1].values  # 출력 값\n",
    "\n",
    "# 데이터 분리\n",
    "X_train_full, X_test, y_train_full, y_test = train_test_split(X, y, test_size=0.2, random_state=42)\n",
    "X_train, X_valid, y_train, y_valid = train_test_split(X_train_full, y_train_full, test_size=0.2, random_state=42)\n",
    "\n",
    "# 데이터 스케일링\n",
    "scaler = StandardScaler()\n",
    "X_train_scaled = np.nan_to_num(scaler.fit_transform(X_train))\n",
    "X_valid_scaled = np.nan_to_num(scaler.transform(X_valid))\n",
    "X_test_scaled = np.nan_to_num(scaler.transform(X_test))\n",
    "y_train = np.nan_to_num(y_train)\n",
    "y_valid = np.nan_to_num(y_valid)\n",
    "y_test = np.nan_to_num(y_test)\n",
    "\n",
    "# 사용자 정의 HuberLoss 함수\n",
    "class HuberLoss(tf.keras.losses.Loss):\n",
    "    def __init__(self, threshold=1.0, **kwargs):\n",
    "        self.threshold = threshold\n",
    "        super().__init__(**kwargs)\n",
    "\n",
    "    def call(self, y_true, y_pred):\n",
    "        error = y_true - y_pred\n",
    "        is_small_error = tf.abs(error) < self.threshold\n",
    "        squared_loss = tf.square(error) / 2\n",
    "        linear_loss = self.threshold * tf.abs(error) - self.threshold**2 / 2\n",
    "        return tf.where(is_small_error, squared_loss, linear_loss)\n",
    "\n",
    "    def get_config(self):\n",
    "        base_config = super().get_config()\n",
    "        return {**base_config, \"threshold\": self.threshold}\n",
    "\n",
    "# 모델 구조 정의\n",
    "def build_model(hp):\n",
    "    n_hidden = hp.Int(\"n_hidden\", min_value=0, max_value=8, default=2)\n",
    "    n_neurons = hp.Int(\"n_neurons\", min_value=16, max_value=256, step=16)\n",
    "    learning_rate = hp.Float(\"learning_rate\", min_value=1e-5, max_value=1e-3, sampling=\"log\")\n",
    "    optimizer = hp.Choice(\"optimizer\", values=[\"adam\", \"sgd\"])\n",
    "\n",
    "    if optimizer == \"sgd\":\n",
    "        optimizer = tf.keras.optimizers.SGD(learning_rate=learning_rate)\n",
    "    else:\n",
    "        optimizer = tf.keras.optimizers.Adam(learning_rate=learning_rate)\n",
    "\n",
    "    model = tf.keras.Sequential()\n",
    "    model.add(tf.keras.layers.Flatten(input_shape=(X_train_scaled.shape[1],)))\n",
    "    for _ in range(n_hidden):\n",
    "        model.add(tf.keras.layers.Dense(n_neurons, activation=\"relu\", kernel_initializer=\"he_normal\"))\n",
    "    model.add(tf.keras.layers.Dense(1))\n",
    "\n",
    "    loss = HuberLoss(threshold=hp.Float(\"threshold\", min_value=0.5, max_value=5.0, step=0.5))\n",
    "    model.compile(loss=loss, optimizer=optimizer, metrics=[\"mae\"])\n",
    "    return model\n",
    "\n",
    "# 이 문단부터 하이퍼 파라미터\n",
    "# Keras Tuner 설정\n",
    "tuner = kt.Hyperband(\n",
    "    build_model,\n",
    "    objective=\"val_mae\",\n",
    "    max_epochs=20,\n",
    "    factor=3,\n",
    "    directory=\"tuner_dir\",\n",
    "    project_name=\"huber_loss_tuning\",\n",
    "    max_consecutive_failed_trials=10\n",
    ")\n",
    "\n",
    "# 하이퍼파라미터 검색 실행\n",
    "tuner.search(\n",
    "    X_train_scaled, y_train,\n",
    "    validation_data=(X_valid_scaled, y_valid),\n",
    "    verbose=2\n",
    ")\n",
    "\n",
    "# 최적의 하이퍼파라미터로 모델 재설정 및 훈련\n",
    "best_hps = tuner.get_best_hyperparameters(num_trials=1)[0]\n",
    "model = build_model(best_hps)\n",
    "history = model.fit(X_train_scaled, y_train, validation_data=(X_valid_scaled, y_valid), epochs=20)\n",
    "\n",
    "# 모델 평가\n",
    "test_loss, test_mae = model.evaluate(X_test_scaled, y_test)\n",
    "\n",
    "# 모델 저장\n",
    "model.save(\"final_model.keras\")\n",
    "\n",
    "# 최종 평가 결과 출력\n",
    "print(f\"Test loss: {test_loss}\")\n",
    "print(f\"Test MAE: {test_mae}\")\n"
   ]
  },
  {
   "cell_type": "code",
   "execution_count": null,
   "id": "effc8545",
   "metadata": {
    "colab": {
     "base_uri": "https://localhost:8080/",
     "height": 17
    },
    "id": "EHQ2Qw-HbM9L",
    "outputId": "8dbfb936-17f0-457b-a7e9-03b7b9a74121"
   },
   "outputs": [],
   "source": [
    "\n",
    "# 저장된 모델 다운로드\n",
    "files.download(\"final_model.keras\")\n"
   ]
  },
  {
   "cell_type": "code",
   "execution_count": null,
   "id": "baead344",
   "metadata": {
    "colab": {
     "base_uri": "https://localhost:8080/",
     "height": 17
    },
    "id": "ShvNU4cPMc1m",
    "outputId": "8e4b09fd-d491-45e6-d86a-37da29d1dedf"
   },
   "outputs": [],
   "source": [
    "results = {\"Metric\": [\"Test Loss\", \"Test MAE\"], \"Value\": [test_loss, test_mae]}\n",
    "df = pd.DataFrame(results)\n",
    "df.to_csv(\"results.csv\", index=False)\n",
    "\n",
    "# CSV 다운로드\n",
    "files.download(\"results.csv\")"
   ]
  },
  {
   "cell_type": "code",
   "execution_count": null,
   "id": "9e8d9019",
   "metadata": {
    "id": "GcEpW3kPMjZG"
   },
   "outputs": [],
   "source": []
  },
  {
   "cell_type": "code",
   "execution_count": null,
   "id": "8473e939",
   "metadata": {
    "id": "B5piqVZPGhwI"
   },
   "outputs": [],
   "source": [
    "%matplotlib inline\n",
    "\n",
    "import seaborn as sns\n",
    "\n",
    "import warnings\n",
    "warnings.filterwarnings('ignore')\n"
   ]
  },
  {
   "cell_type": "code",
   "execution_count": null,
   "id": "b1be08c5",
   "metadata": {
    "id": "dV8xHhu3GqC1"
   },
   "outputs": [],
   "source": [
    "df = pd.read_csv(\"https://raw.githubusercontent.com/yoonkt200/FastCampusDataset/master/BostonHousing2.csv\")\n",
    "\n",
    "\n"
   ]
  },
  {
   "cell_type": "code",
   "execution_count": null,
   "id": "4f3f1f89",
   "metadata": {
    "colab": {
     "base_uri": "https://localhost:8080/",
     "height": 206
    },
    "id": "bxOYltxvMTM4",
    "outputId": "ccf5e04e-3433-40ab-8a31-c9146d3c7cd1"
   },
   "outputs": [],
   "source": [
    "df.head()"
   ]
  },
  {
   "cell_type": "code",
   "execution_count": null,
   "id": "58d1d27f",
   "metadata": {
    "id": "42G0i-6DMW6r"
   },
   "outputs": [],
   "source": [
    "# 그래프 배경 설정\n",
    "sns.set_style('darkgrid')"
   ]
  },
  {
   "cell_type": "code",
   "execution_count": null,
   "id": "2ea988b3",
   "metadata": {
    "colab": {
     "base_uri": "https://localhost:8080/"
    },
    "id": "zCSz-3BzMb48",
    "outputId": "0c6877aa-6169-49b2-d487-427c759aeb32"
   },
   "outputs": [],
   "source": [
    "# shape (dimension)\n",
    "df.shape"
   ]
  },
  {
   "cell_type": "code",
   "execution_count": null,
   "id": "55ac1392",
   "metadata": {
    "colab": {
     "base_uri": "https://localhost:8080/",
     "height": 617
    },
    "id": "pcuMQx5jMc27",
    "outputId": "be41c5ec-1afc-4c1a-c579-10fbe5825581"
   },
   "outputs": [],
   "source": [
    "# 결측치\n",
    "df.isnull().sum()"
   ]
  },
  {
   "cell_type": "code",
   "execution_count": null,
   "id": "b0c8fb50",
   "metadata": {
    "colab": {
     "base_uri": "https://localhost:8080/"
    },
    "id": "AxPXNVPDMfdc",
    "outputId": "353362a0-6eab-40ca-b2f9-8a4510e278f5"
   },
   "outputs": [],
   "source": [
    "# data type\n",
    "df.info()"
   ]
  },
  {
   "cell_type": "code",
   "execution_count": null,
   "id": "522e07ef",
   "metadata": {
    "colab": {
     "base_uri": "https://localhost:8080/",
     "height": 320
    },
    "id": "i8LlD6zAMiPu",
    "outputId": "d80d5830-6a0b-4dbb-8b7b-6dcb6931074b"
   },
   "outputs": [],
   "source": [
    "# numerical variable\n",
    "df.describe()"
   ]
  },
  {
   "cell_type": "code",
   "execution_count": null,
   "id": "911e38c9",
   "metadata": {
    "colab": {
     "base_uri": "https://localhost:8080/"
    },
    "id": "mVEV2OUxMlJg",
    "outputId": "a5413325-f240-4415-afcf-3c172d034bfc"
   },
   "outputs": [],
   "source": [
    "# categorical variable\n",
    "num_town = df['TOWN'].unique()\n",
    "print(len(num_town))\n",
    "num_town\n"
   ]
  },
  {
   "cell_type": "code",
   "execution_count": null,
   "id": "65b6a74c",
   "metadata": {
    "colab": {
     "base_uri": "https://localhost:8080/",
     "height": 335
    },
    "id": "DYq_DmdLMnMK",
    "outputId": "7bc5f824-b04c-4666-ba24-486efcf75427"
   },
   "outputs": [],
   "source": [
    "# 기초 통계량\n",
    "df['CMEDV'].describe()"
   ]
  },
  {
   "cell_type": "code",
   "execution_count": null,
   "id": "cb7a4911",
   "metadata": {
    "colab": {
     "base_uri": "https://localhost:8080/",
     "height": 448
    },
    "id": "g1rzVo9zMqgP",
    "outputId": "152768bf-59ad-4b75-a62d-2c393af18833"
   },
   "outputs": [],
   "source": [
    "# 분포\n",
    "df['CMEDV'].hist(bins=50)"
   ]
  },
  {
   "cell_type": "code",
   "execution_count": null,
   "id": "431f35a1",
   "metadata": {
    "colab": {
     "base_uri": "https://localhost:8080/",
     "height": 430
    },
    "id": "s0t9mb6MMspW",
    "outputId": "ba220b96-e248-4a02-d699-e9ff230a14e3"
   },
   "outputs": [],
   "source": [
    "# boxplot - Pandas\n",
    "df.boxplot(column=['CMEDV'])\n",
    "plt.show()"
   ]
  },
  {
   "cell_type": "code",
   "execution_count": null,
   "id": "308acdea",
   "metadata": {
    "colab": {
     "base_uri": "https://localhost:8080/",
     "height": 430
    },
    "id": "tXOy-vQNMubS",
    "outputId": "d3c76fb8-d380-43eb-c22e-4ab3530a06b4"
   },
   "outputs": [],
   "source": [
    "# boxplot - matplotlib\n",
    "plt.boxplot(df['CMEDV'])\n",
    "plt.show()\n"
   ]
  },
  {
   "cell_type": "code",
   "execution_count": null,
   "id": "a1b4fd91",
   "metadata": {
    "colab": {
     "base_uri": "https://localhost:8080/",
     "height": 1000
    },
    "id": "IHheQnScM0HX",
    "outputId": "fa4b3fd0-1ab1-4827-f10f-1c93a752f266"
   },
   "outputs": [],
   "source": [
    "# numerical features (except \"LON\" & \"LAT\")\n",
    "numerical_columns = ['CRIM', 'ZN', 'INDUS', 'CHAS', 'NOX', 'RM', 'AGE', 'DIS', 'RAD', 'TAX', 'PTRATIO', 'B', 'LSTAT']\n",
    "\n",
    "fig = plt.figure(figsize = (16, 20))\n",
    "ax = fig.gca()  # Axes 생성\n",
    "\n",
    "df[numerical_columns].hist(ax=ax)\n",
    "plt.show()"
   ]
  },
  {
   "cell_type": "code",
   "execution_count": null,
   "id": "ba8f3aa0",
   "metadata": {
    "colab": {
     "base_uri": "https://localhost:8080/",
     "height": 488
    },
    "id": "E4wso7kTM34A",
    "outputId": "6b73a3dd-9905-44b8-def6-29ed99c9b1f2"
   },
   "outputs": [],
   "source": [
    "# Person 상관계수\n",
    "cols = ['CMEDV', 'CRIM', 'ZN', 'INDUS', 'CHAS', 'NOX', 'RM', 'AGE', 'DIS', 'RAD', 'TAX', 'PTRATIO', 'B', 'LSTAT']\n",
    "\n",
    "corr = df[cols].corr(method = 'pearson')\n",
    "corr\n"
   ]
  },
  {
   "cell_type": "code",
   "execution_count": null,
   "id": "5cb3420f",
   "metadata": {
    "colab": {
     "base_uri": "https://localhost:8080/",
     "height": 1000
    },
    "id": "G-WUha6UM7ZP",
    "outputId": "9ecd14d5-8349-483c-8164-3a7469a7c01f"
   },
   "outputs": [],
   "source": [
    "# heatmap (seaborn)\n",
    "fig = plt.figure(figsize = (16, 12))\n",
    "ax = fig.gca()\n",
    "\n",
    "sns.set(font_scale = 1.5)  # heatmap 안의 font-size 설정\n",
    "heatmap = sns.heatmap(corr.values, annot = True, fmt='.2f', annot_kws={'size':15},\n",
    "                      yticklabels = cols, xticklabels = cols, ax=ax, cmap = \"RdYlBu\")\n",
    "plt.tight_layout()\n",
    "plt.show()"
   ]
  },
  {
   "cell_type": "code",
   "execution_count": null,
   "id": "b44cf2d7",
   "metadata": {
    "colab": {
     "base_uri": "https://localhost:8080/",
     "height": 499
    },
    "id": "CRxyqTSuNAwa",
    "outputId": "37fad0b2-d558-426b-bdad-5dc2f684ce3d"
   },
   "outputs": [],
   "source": [
    "# scatter plot\n",
    "sns.scatterplot(data=df, x='RM', y='CMEDV', markers='o', color='blue', alpha=0.6)\n",
    "plt.title('Scatter Plot')\n",
    "plt.show()"
   ]
  },
  {
   "cell_type": "code",
   "execution_count": null,
   "id": "f4876f4c",
   "metadata": {
    "colab": {
     "base_uri": "https://localhost:8080/",
     "height": 499
    },
    "id": "Cd9h5c6JNEvF",
    "outputId": "b6c94357-4f7e-4e1f-a689-48e69f406e3c"
   },
   "outputs": [],
   "source": [
    "# scatter plot\n",
    "sns.scatterplot(data=df, x='LSTAT', y='CMEDV', markers='o', color='blue', alpha=0.6)\n",
    "plt.title('Scatter Plot')\n",
    "plt.show()"
   ]
  },
  {
   "cell_type": "code",
   "execution_count": null,
   "id": "6710442b",
   "metadata": {
    "colab": {
     "base_uri": "https://localhost:8080/",
     "height": 490
    },
    "id": "KRpogtgNNIhF",
    "outputId": "86276e1b-c595-41e7-a4e2-df422f590e9e"
   },
   "outputs": [],
   "source": [
    "# 도시별 데이터 갯수\n",
    "df['TOWN'].value_counts()"
   ]
  },
  {
   "cell_type": "code",
   "execution_count": null,
   "id": "4b37c2a7",
   "metadata": {
    "colab": {
     "base_uri": "https://localhost:8080/",
     "height": 462
    },
    "id": "HNojPNSzNKnZ",
    "outputId": "9be969a1-19d7-4f95-fb03-539990a125f5"
   },
   "outputs": [],
   "source": [
    "# 도시별 데이터 갯수 (bar plot)\n",
    "df['TOWN'].value_counts().hist(bins=50)"
   ]
  },
  {
   "cell_type": "code",
   "execution_count": null,
   "id": "ab0f3ea6",
   "metadata": {
    "colab": {
     "base_uri": "https://localhost:8080/",
     "height": 1000
    },
    "id": "mGaFwad5NON1",
    "outputId": "3fb20132-dd18-426c-a89e-41c65be6cabc"
   },
   "outputs": [],
   "source": [
    "# 도시별 주택 가격 특징 (boxplot 이용)\n",
    "fig = plt.figure(figsize = (12, 20))\n",
    "sns.boxplot(x='CMEDV', y='TOWN', data=df)"
   ]
  },
  {
   "cell_type": "code",
   "execution_count": null,
   "id": "970c3391",
   "metadata": {
    "colab": {
     "base_uri": "https://localhost:8080/",
     "height": 1000
    },
    "id": "V9oqaRvvNS-h",
    "outputId": "47f6bfc1-0daa-43b5-db76-3f36fa46a388"
   },
   "outputs": [],
   "source": [
    "# 도시별 범죄율 특징\n",
    "fig = plt.figure(figsize = (12, 20))\n",
    "sns.boxplot(x='CRIM', y='TOWN', data=df)"
   ]
  },
  {
   "cell_type": "code",
   "execution_count": null,
   "id": "24fa10cd",
   "metadata": {
    "colab": {
     "base_uri": "https://localhost:8080/",
     "height": 206
    },
    "id": "H9XgN61INXUS",
    "outputId": "2533dd05-5a11-4c87-d633-1dfc1ac7ae22"
   },
   "outputs": [],
   "source": [
    "df.head()"
   ]
  },
  {
   "cell_type": "code",
   "execution_count": null,
   "id": "87eb88f2",
   "metadata": {
    "colab": {
     "base_uri": "https://localhost:8080/"
    },
    "id": "38pYFhFnNaR_",
    "outputId": "902f21b9-c2c7-4b97-8228-5697f3277761"
   },
   "outputs": [],
   "source": [
    "df.info()"
   ]
  },
  {
   "cell_type": "code",
   "execution_count": null,
   "id": "6c5c35c7",
   "metadata": {
    "id": "MlISIs3JNcJ6"
   },
   "outputs": [],
   "source": [
    "\n",
    "# feature standardization  (numerical_columns except dummy var.-\"CHAS\")\n",
    "scaler = StandardScaler()  # 평균 0, 표준편차 1\n",
    "scale_columns = ['CRIM', 'ZN', 'INDUS', 'NOX', 'RM', 'AGE', 'DIS', 'RAD', 'TAX', 'PTRATIO', 'B', 'LSTAT']\n",
    "df[scale_columns] = scaler.fit_transform(df[scale_columns])"
   ]
  },
  {
   "cell_type": "code",
   "execution_count": null,
   "id": "584699b4",
   "metadata": {
    "colab": {
     "base_uri": "https://localhost:8080/",
     "height": 206
    },
    "id": "bmltqOyNNebk",
    "outputId": "e88ab062-7ab7-4a60-8d0b-531e2cc72157"
   },
   "outputs": [],
   "source": [
    "df.head()"
   ]
  },
  {
   "cell_type": "code",
   "execution_count": null,
   "id": "9e7774ec",
   "metadata": {
    "colab": {
     "base_uri": "https://localhost:8080/",
     "height": 206
    },
    "id": "s6TTn0vGNhUU",
    "outputId": "4331487c-37b8-4df4-9acc-9be8e2ef43fa"
   },
   "outputs": [],
   "source": [
    "# features for linear regression model\n",
    "df[numerical_columns].head()"
   ]
  },
  {
   "cell_type": "code",
   "execution_count": null,
   "id": "e6fa716d",
   "metadata": {
    "id": "autzWdBjNkUm"
   },
   "outputs": [],
   "source": [
    "\n",
    "# split dataset into training & test\n",
    "X = df[numerical_columns]\n",
    "y = df['CMEDV']\n",
    "X_train, X_test, y_train, y_test = train_test_split(X, y, test_size=0.2, random_state=1)"
   ]
  },
  {
   "cell_type": "code",
   "execution_count": null,
   "id": "9f6ceb10",
   "metadata": {
    "colab": {
     "base_uri": "https://localhost:8080/"
    },
    "id": "Bao4ECybNnoQ",
    "outputId": "8d52c5a7-c4af-4f9d-f860-50dd0e5683b3"
   },
   "outputs": [],
   "source": [
    "X_train.shape, y_train.shape"
   ]
  },
  {
   "cell_type": "code",
   "execution_count": null,
   "id": "1589e1bf",
   "metadata": {
    "colab": {
     "base_uri": "https://localhost:8080/"
    },
    "id": "JnSlFb64Npxz",
    "outputId": "08ba4069-869a-45a5-e372-5516f1e8c4d9"
   },
   "outputs": [],
   "source": [
    "X_test.shape, y_test.shape"
   ]
  },
  {
   "cell_type": "code",
   "execution_count": null,
   "id": "ed0a2337",
   "metadata": {
    "colab": {
     "base_uri": "https://localhost:8080/",
     "height": 457
    },
    "id": "kFwmZZwpNr9q",
    "outputId": "20862583-6995-4637-bce8-e6e286c64a24"
   },
   "outputs": [],
   "source": [
    "from statsmodels.stats.outliers_influence import variance_inflation_factor\n",
    "\n",
    "vif = pd.DataFrame()\n",
    "vif['features'] = X_train.columns\n",
    "vif[\"VIF Factor\"] = [variance_inflation_factor(X_train.values, i) for i in range(X_train.shape[1])]\n",
    "vif.round(1)"
   ]
  },
  {
   "cell_type": "code",
   "execution_count": null,
   "id": "0b4ba2f6",
   "metadata": {
    "id": "Zt2VONfYNwsd"
   },
   "outputs": [],
   "source": [
    "from sklearn import linear_model\n",
    "\n",
    "# fit regression model in training set\n",
    "lr = linear_model.LinearRegression()\n",
    "model = lr.fit(X_train, y_train)\n",
    "\n",
    "# predict in test set\n",
    "pred_test = lr.predict(X_test)"
   ]
  },
  {
   "cell_type": "code",
   "execution_count": null,
   "id": "3e4cffd9",
   "metadata": {
    "colab": {
     "base_uri": "https://localhost:8080/"
    },
    "id": "r03X32_QN1_P",
    "outputId": "70e420d7-565b-4ec4-9734-1a5bb86eaa87"
   },
   "outputs": [],
   "source": [
    "# print coef\n",
    "print(lr.coef_)"
   ]
  },
  {
   "cell_type": "code",
   "execution_count": null,
   "id": "898156a3",
   "metadata": {
    "colab": {
     "base_uri": "https://localhost:8080/",
     "height": 457
    },
    "id": "qWAuON_gN30u",
    "outputId": "85c71db4-859a-4513-f389-36a103a3d13a"
   },
   "outputs": [],
   "source": [
    "# \"feature - coefficients\" DataFrame 만들기\n",
    "coefs = pd.DataFrame(zip(df[numerical_columns].columns, lr.coef_), columns = ['feature', 'coefficients'])\n",
    "coefs"
   ]
  },
  {
   "cell_type": "code",
   "execution_count": null,
   "id": "a54ddcd9",
   "metadata": {
    "colab": {
     "base_uri": "https://localhost:8080/",
     "height": 457
    },
    "id": "iBi1WoHPN7LF",
    "outputId": "0e1468ac-fdcc-44e9-8632-d4876fa4ed19"
   },
   "outputs": [],
   "source": [
    "# 크기 순서로 나열\n",
    "coefs_new = coefs.reindex(coefs.coefficients.abs().sort_values(ascending=False).index)\n",
    "coefs_new"
   ]
  },
  {
   "cell_type": "code",
   "execution_count": null,
   "id": "553f90e2",
   "metadata": {
    "colab": {
     "base_uri": "https://localhost:8080/",
     "height": 746
    },
    "id": "8e5CeuQ5N-Mz",
    "outputId": "96a484be-8d62-4683-aabd-03cde2ed53b1"
   },
   "outputs": [],
   "source": [
    "## coefficients 시각화\n",
    "\n",
    "# figure size\n",
    "plt.figure(figsize = (8, 8))\n",
    "\n",
    "# bar plot\n",
    "plt.barh(coefs_new['feature'], coefs_new['coefficients'])\n",
    "plt.title('\"feature - coefficient\" Graph')\n",
    "plt.xlabel('coefficients')\n",
    "plt.ylabel('features')\n",
    "plt.show()"
   ]
  },
  {
   "cell_type": "code",
   "execution_count": null,
   "id": "8b73dbae",
   "metadata": {
    "colab": {
     "base_uri": "https://localhost:8080/",
     "height": 708
    },
    "id": "BNJIRlvEOCRx",
    "outputId": "abe7bdee-6d49-4ee5-8ce9-ee5acf19fa90"
   },
   "outputs": [],
   "source": [
    "import statsmodels.api as sm\n",
    "\n",
    "X_train2 = sm.add_constant(X_train)\n",
    "model2 = sm.OLS(y_train, X_train2).fit()\n",
    "model2.summary()"
   ]
  },
  {
   "cell_type": "code",
   "execution_count": null,
   "id": "22169983",
   "metadata": {
    "colab": {
     "base_uri": "https://localhost:8080/",
     "height": 796
    },
    "id": "5Q_Q-DB9OFfR",
    "outputId": "f045d178-a801-4ffe-b8d7-91c6631d8e71"
   },
   "outputs": [],
   "source": [
    "# 예측 결과 시각화 (test set)\n",
    "df = pd.DataFrame({'actual': y_test, 'prediction': pred_test})\n",
    "df = df.sort_values(by='actual').reset_index(drop=True)\n",
    "\n",
    "plt.figure(figsize=(12, 9))\n",
    "plt.scatter(df.index, df['prediction'], marker='x', color='r')\n",
    "plt.scatter(df.index, df['actual'], alpha=0.7, marker='o', color='black')\n",
    "plt.title(\"Prediction Result in Test Set\", fontsize=20)\n",
    "plt.legend(['prediction', 'actual'], fontsize=12)\n",
    "plt.show()"
   ]
  },
  {
   "cell_type": "code",
   "execution_count": null,
   "id": "eda043e0",
   "metadata": {
    "colab": {
     "base_uri": "https://localhost:8080/"
    },
    "id": "3AZ9RpimOLXU",
    "outputId": "e3989205-be3f-463c-8c90-eaccc75461f8"
   },
   "outputs": [],
   "source": [
    "# R square\n",
    "print(model.score(X_train, y_train))  # training set\n",
    "print(model.score(X_test, y_test))  # test set"
   ]
  },
  {
   "cell_type": "code",
   "execution_count": null,
   "id": "20118fed",
   "metadata": {
    "colab": {
     "base_uri": "https://localhost:8080/"
    },
    "id": "1eHsKJq3OO8v",
    "outputId": "7361522e-4b40-4e33-b994-472274e376b3"
   },
   "outputs": [],
   "source": [
    "# RMSE\n",
    "from sklearn.metrics import mean_squared_error\n",
    "from math import sqrt\n",
    "\n",
    "# training set\n",
    "pred_train = lr.predict(X_train)\n",
    "print(sqrt(mean_squared_error(y_train, pred_train)))\n",
    "\n",
    "# test set\n",
    "print(sqrt(mean_squared_error(y_test, pred_test)))"
   ]
  },
  {
   "cell_type": "code",
   "execution_count": null,
   "id": "31de082e",
   "metadata": {
    "id": "8mPBaRMZOSoZ"
   },
   "outputs": [],
   "source": []
  }
 ],
 "metadata": {
  "kernelspec": {
   "display_name": "Python 3",
   "language": "python",
   "name": "python3"
  },
  "language_info": {
   "codemirror_mode": {
    "name": "ipython",
    "version": 3
   },
   "file_extension": ".py",
   "mimetype": "text/x-python",
   "name": "python",
   "nbconvert_exporter": "python",
   "pygments_lexer": "ipython3",
   "version": "3.12.1"
  }
 },
 "nbformat": 4,
 "nbformat_minor": 5
}
