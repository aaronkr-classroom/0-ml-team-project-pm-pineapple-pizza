{
 "cells": [
  {
   "cell_type": "code",
   "execution_count": 2,
   "metadata": {},
   "outputs": [
    {
     "name": "stdout",
     "output_type": "stream",
     "text": [
      "      CRIM    ZN  INDUS  CHAS    NOX     RM   AGE     DIS  RAD    TAX  \\\n",
      "0  0.00632  18.0   2.31     0  0.538  6.575  65.2  4.0900    1  296.0   \n",
      "1  0.02731   0.0   7.07     0  0.469  6.421  78.9  4.9671    2  242.0   \n",
      "2  0.02729   0.0   7.07     0  0.469  7.185  61.1  4.9671    2  242.0   \n",
      "3  0.03237   0.0   2.18     0  0.458  6.998  45.8  6.0622    3  222.0   \n",
      "4  0.06905   0.0   2.18     0  0.458  7.147  54.2  6.0622    3  222.0   \n",
      "\n",
      "   PTRATIO       B  LSTAT  MEDV  \n",
      "0     15.3  396.90   4.98  24.0  \n",
      "1     17.8  396.90   9.14  21.6  \n",
      "2     17.8  392.83   4.03  34.7  \n",
      "3     18.7  394.63   2.94  33.4  \n",
      "4     18.7  396.90   5.33  36.2  \n",
      "<class 'pandas.core.frame.DataFrame'>\n",
      "RangeIndex: 2024 entries, 0 to 2023\n",
      "Data columns (total 14 columns):\n",
      " #   Column   Non-Null Count  Dtype  \n",
      "---  ------   --------------  -----  \n",
      " 0   CRIM     2024 non-null   float64\n",
      " 1   ZN       2024 non-null   float64\n",
      " 2   INDUS    2024 non-null   float64\n",
      " 3   CHAS     2024 non-null   int64  \n",
      " 4   NOX      2024 non-null   float64\n",
      " 5   RM       2019 non-null   float64\n",
      " 6   AGE      2024 non-null   float64\n",
      " 7   DIS      2024 non-null   float64\n",
      " 8   RAD      2024 non-null   int64  \n",
      " 9   TAX      2024 non-null   float64\n",
      " 10  PTRATIO  2024 non-null   float64\n",
      " 11  B        2024 non-null   float64\n",
      " 12  LSTAT    2024 non-null   float64\n",
      " 13  MEDV     2024 non-null   float64\n",
      "dtypes: float64(12), int64(2)\n",
      "memory usage: 221.5 KB\n",
      "None\n",
      "              CRIM           ZN        INDUS         CHAS          NOX  \\\n",
      "count  2024.000000  2024.000000  2024.000000  2024.000000  2024.000000   \n",
      "mean      3.613524    11.363636    11.136779     0.069170     0.554695   \n",
      "std       8.595165    23.305154     6.855264     0.253806     0.115792   \n",
      "min       0.006320     0.000000     0.460000     0.000000     0.385000   \n",
      "25%       0.081990     0.000000     5.190000     0.000000     0.449000   \n",
      "50%       0.256510     0.000000     9.690000     0.000000     0.538000   \n",
      "75%       3.678220    12.500000    18.100000     0.000000     0.624000   \n",
      "max      88.976200   100.000000    27.740000     1.000000     0.871000   \n",
      "\n",
      "                RM          AGE          DIS          RAD          TAX  \\\n",
      "count  2019.000000  2024.000000  2024.000000  2024.000000  2024.000000   \n",
      "mean      6.284562    68.574901     3.795043     9.549407   408.237154   \n",
      "std       0.702832    28.127982     2.104148     8.700801   168.412104   \n",
      "min       3.561000     2.900000     1.129600     1.000000   187.000000   \n",
      "25%       5.885000    45.000000     2.100000     4.000000   279.000000   \n",
      "50%       6.208000    77.500000     3.207450     5.000000   330.000000   \n",
      "75%       6.625000    94.100000     5.211900    24.000000   666.000000   \n",
      "max       8.780000   100.000000    12.126500    24.000000   711.000000   \n",
      "\n",
      "           PTRATIO            B        LSTAT         MEDV  \n",
      "count  2024.000000  2024.000000  2024.000000  2024.000000  \n",
      "mean     18.455534   356.674032    12.653063    22.532806  \n",
      "std       2.163340    91.227147     7.135765     9.190282  \n",
      "min      12.600000     0.320000     1.730000     5.000000  \n",
      "25%      17.400000   375.330000     6.930000    17.000000  \n",
      "50%      19.050000   391.440000    11.360000    21.200000  \n",
      "75%      20.200000   396.230000    16.960000    25.000000  \n",
      "max      22.000000   396.900000    37.970000    50.000000  \n"
     ]
    }
   ],
   "source": [
    "# 데이터 불러오기 및 기본 정보 확인\n",
    "import pandas as pd\n",
    "\n",
    "# 파일 경로\n",
    "file_path = \"datasets/BostonHousingprice.csv\"\n",
    "\n",
    "# 데이터 읽기\n",
    "data = pd.read_csv(file_path)\n",
    "\n",
    "# 데이터 확인\n",
    "print(data.head())\n",
    "print(data.info())\n",
    "print(data.describe())"
   ]
  },
  {
   "cell_type": "markdown",
   "metadata": {},
   "source": [
    "보스턴 집값 예측"
   ]
  }
 ],
 "metadata": {
  "kernelspec": {
   "display_name": "Python 3",
   "language": "python",
   "name": "python3"
  },
  "language_info": {
   "codemirror_mode": {
    "name": "ipython",
    "version": 3
   },
   "file_extension": ".py",
   "mimetype": "text/x-python",
   "name": "python",
   "nbconvert_exporter": "python",
   "pygments_lexer": "ipython3",
   "version": "3.12.1"
  }
 },
 "nbformat": 4,
 "nbformat_minor": 2
}
