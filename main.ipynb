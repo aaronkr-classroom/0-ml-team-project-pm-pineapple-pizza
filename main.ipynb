{
 "cells": [
  {
   "cell_type": "markdown",
   "metadata": {},
   "source": [
    "# 1. 데이터 불러오기 및 기본 확인"
   ]
  },
  {
   "cell_type": "markdown",
   "metadata": {},
   "source": [
    "파이썬 3.12 버전을 설치합니다:"
   ]
  },
  {
   "cell_type": "code",
   "execution_count": null,
   "metadata": {},
   "outputs": [],
   "source": [
    "import sys\n",
    "\n",
    "assert sys.version_info >= (3, 12)"
   ]
  },
  {
   "cell_type": "markdown",
   "metadata": {},
   "source": [
    "프로젝트 폴더 내 datasets 폴더에서 csv 데이터셋 파일을 가져옵니다:"
   ]
  },
  {
   "cell_type": "code",
   "execution_count": null,
   "metadata": {},
   "outputs": [],
   "source": [
    "# 데이터 불러오기 및 기본 정보 확인\n",
    "import pandas as pd\n",
    "\n",
    "# 파일 경로\n",
    "file_path = \"datasets/BostonHousingprice.csv\"\n",
    "\n",
    "# 데이터 읽기\n",
    "data = pd.read_csv(file_path)"
   ]
  },
  {
   "cell_type": "code",
   "execution_count": null,
   "metadata": {},
   "outputs": [],
   "source": [
    "# 데이터 확인\n",
    "print(data.head())\n",
    "print(data.info())\n",
    "print(data.describe())\n",
    "print(data.columns)"
   ]
  },
  {
   "cell_type": "markdown",
   "metadata": {},
   "source": [
    "결측치 확인 및 처리:"
   ]
  },
  {
   "cell_type": "code",
   "execution_count": null,
   "metadata": {},
   "outputs": [],
   "source": [
    "# 결측치 확인\n",
    "print(data.isnull().sum())\n",
    "\n",
    "# 결측치 발견시 삭제\n",
    "data = data.dropna()"
   ]
  },
  {
   "cell_type": "markdown",
   "metadata": {},
   "source": [
    "이상치 처리:"
   ]
  },
  {
   "cell_type": "code",
   "execution_count": null,
   "metadata": {},
   "outputs": [],
   "source": [
    "import matplotlib.pyplot as plt\n",
    "\n",
    "# 이상치 확인\n",
    "plt.boxplot(data['MEDV'])\n",
    "plt.show()\n",
    "\n",
    "# 이상치 제거\n",
    "Q1 = data['MEDV'].quantile(0.25)\n",
    "Q3 = data['MEDV'].quantile(0.75)\n",
    "IQR = Q3 - Q1\n",
    "data = data[(data['MEDV'] >= Q1 - 1.5 * IQR) & (data['MEDV'] <= Q3 + 1.5 * IQR)]"
   ]
  },
  {
   "cell_type": "markdown",
   "metadata": {},
   "source": [
    "데이터 스케일링:"
   ]
  },
  {
   "cell_type": "code",
   "execution_count": null,
   "metadata": {},
   "outputs": [],
   "source": [
    "from sklearn.preprocessing import StandardScaler\n",
    "\n",
    "# 주요 설명 변수 스케일링\n",
    "scaler = StandardScaler()\n",
    "scaled_features = scaler.fit_transform(data[['CRIM', 'B', 'LSTAT']])  # 예: 범죄율, 흑인비율, 저소득층 비율\n",
    "scaled_data = pd.DataFrame(scaled_features, columns=['CRIM', 'B', 'LSTAT'])\n"
   ]
  },
  {
   "cell_type": "markdown",
   "metadata": {},
   "source": [
    "# 2. 탐색적 데이터 분석(Exploratory Data Analysis)"
   ]
  },
  {
   "cell_type": "markdown",
   "metadata": {},
   "source": [
    "변수 간 상관관계 분석:"
   ]
  },
  {
   "cell_type": "code",
   "execution_count": null,
   "metadata": {},
   "outputs": [],
   "source": [
    "import seaborn as sns\n",
    "import matplotlib.pyplot as plt\n",
    "\n",
    "# 상관계수 히트맵 표시\n",
    "plt.figure(figsize=(10, 8))\n",
    "sns.heatmap(data.corr(), annot=True, cmap='coolwarm')\n",
    "plt.title('Correlation Heatmap')\n",
    "plt.show()"
   ]
  },
  {
   "cell_type": "markdown",
   "metadata": {},
   "source": [
    "먼저 데이터 내 주택가격에 대한 분포를 확인합니다"
   ]
  },
  {
   "cell_type": "code",
   "execution_count": null,
   "metadata": {},
   "outputs": [],
   "source": [
    "# MEDV(주택 가격) 분포\n",
    "sns.histplot(data['MEDV'], kde=True, bins=30)\n",
    "plt.title('Distribution of MEDV')\n",
    "plt.xlabel('MEDV')\n",
    "plt.ylabel('Frequency')\n",
    "plt.show()"
   ]
  },
  {
   "cell_type": "markdown",
   "metadata": {},
   "source": [
    "MEDV(주택 가격)과 각 데이터간의 상관관계를 분석합니다"
   ]
  },
  {
   "cell_type": "code",
   "execution_count": null,
   "metadata": {},
   "outputs": [],
   "source": [
    "# 변수별 시각화 (Scatterplot)\n",
    "sns.scatterplot(x=data['B'], y=data['MEDV'])\n",
    "plt.title(\"proportion of blacks and MEDV\")\n",
    "plt.xlabel(\"proportion of blacks (B)\")\n",
    "plt.ylabel(\"Median Value of Homes (MEDV)\")\n",
    "plt.show()\n",
    "\n",
    "# RM(방 개수)과 MEDV의 관계\n",
    "sns.scatterplot(x=data['RM'], y=data['MEDV'])\n",
    "plt.title('Relationship between RM and MEDV')\n",
    "plt.xlabel('Number of Rooms (RM)')\n",
    "plt.ylabel('Median Value of Homes (MEDV)')\n",
    "plt.show()\n",
    "\n",
    "# LSTAT(저소득층 비율)과 MEDV의 관계\n",
    "sns.scatterplot(x=data['LSTAT'], y=data['MEDV'])\n",
    "plt.title('Relationship between LSTAT and MEDV')\n",
    "plt.xlabel('% Lower Status of Population (LSTAT)')\n",
    "plt.ylabel('Median Value of Homes (MEDV)')\n",
    "plt.show()"
   ]
  },
  {
   "cell_type": "code",
   "execution_count": null,
   "metadata": {},
   "outputs": [],
   "source": [
    "#왜곡 데이터 확인 및 처리\n",
    "import numpy as np\n",
    "\n",
    "data['LOG_MEDV'] = np.log1p(data['MEDV'])\n",
    "sns.histplot(data['LOG_MEDV'], kde=True, bins=30)\n",
    "plt.title('Log-transformed MEDV Distribution')\n",
    "plt.show()\n"
   ]
  }
 ],
 "metadata": {
  "kernelspec": {
   "display_name": "Python 3",
   "language": "python",
   "name": "python3"
  },
  "language_info": {
   "codemirror_mode": {
    "name": "ipython",
    "version": 3
   },
   "file_extension": ".py",
   "mimetype": "text/x-python",
   "name": "python",
   "nbconvert_exporter": "python",
   "pygments_lexer": "ipython3",
   "version": "3.12.1"
  }
 },
 "nbformat": 4,
 "nbformat_minor": 2
}
