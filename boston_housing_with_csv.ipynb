{
 "cells": [
  {
   "cell_type": "markdown",
   "id": "879aeb83",
   "metadata": {},
   "source": [
    "## 1. 프로젝트 소개 및 목표\n",
    "이 프로젝트는 **보스턴 주택 가격 예측**을 목표로 합니다. CSV 파일로 제공된 보스턴 주택 데이터를 사용해 다양한 특성을 바탕으로 주택 가격을 예측하는 회귀 모델을 설계하고 평가합니다."
   ]
  },
  {
   "cell_type": "markdown",
   "id": "f606c8cc",
   "metadata": {},
   "source": [
    "## 2. 데이터 로딩\n",
    "CSV 파일에서 보스턴 주택 데이터를 불러옵니다."
   ]
  },
  {
   "cell_type": "code",
   "execution_count": null,
   "id": "92d90d26",
   "metadata": {},
   "outputs": [],
   "source": [
    "\n",
    "import pandas as pd\n",
    "\n",
    "# CSV 파일 로드\n",
    "data = pd.read_csv('/mnt/data/BostonHousing.csv')\n",
    "\n",
    "# 데이터 확인\n",
    "print(data.head())\n"
   ]
  },
  {
   "cell_type": "markdown",
   "id": "7cd0b7a1",
   "metadata": {},
   "source": [
    "## 3. 데이터 탐색 및 시각화\n",
    "데이터의 기본적인 분포와 상관관계를 시각화하여 파악합니다."
   ]
  },
  {
   "cell_type": "code",
   "execution_count": null,
   "id": "cfd282ca",
   "metadata": {},
   "outputs": [],
   "source": [
    "\n",
    "import matplotlib.pyplot as plt\n",
    "import seaborn as sns\n",
    "\n",
    "# 데이터 분포 시각화\n",
    "plt.figure(figsize=(10, 6))\n",
    "sns.histplot(data['medv'], bins=30, kde=True)\n",
    "plt.title('Distribution of House Prices')\n",
    "plt.xlabel('Price ($1000s)')\n",
    "plt.ylabel('Frequency')\n",
    "plt.show()\n",
    "\n",
    "# 상관관계 히트맵\n",
    "plt.figure(figsize=(12, 10))\n",
    "sns.heatmap(data.corr(), annot=True, cmap='coolwarm')\n",
    "plt.title('Correlation Heatmap')\n",
    "plt.show()\n"
   ]
  },
  {
   "cell_type": "markdown",
   "id": "c56605ef",
   "metadata": {},
   "source": [
    "## 4. 데이터 전처리\n",
    "결측치 처리와 데이터 스케일링을 진행합니다."
   ]
  },
  {
   "cell_type": "code",
   "execution_count": null,
   "id": "9a284fc8",
   "metadata": {},
   "outputs": [],
   "source": [
    "\n",
    "from sklearn.preprocessing import StandardScaler\n",
    "from sklearn.model_selection import train_test_split\n",
    "\n",
    "# 특성과 타겟 분리\n",
    "X = data.drop('medv', axis=1)\n",
    "y = data['medv']\n",
    "\n",
    "# 데이터 스케일링\n",
    "scaler = StandardScaler()\n",
    "X_scaled = scaler.fit_transform(X)\n",
    "\n",
    "# 학습 및 테스트 데이터 분리\n",
    "X_train, X_test, y_train, y_test = train_test_split(X_scaled, y, test_size=0.2, random_state=42)\n"
   ]
  },
  {
   "cell_type": "markdown",
   "id": "73718007",
   "metadata": {},
   "source": [
    "## 5. 모델 설계 및 학습\n",
    "인공신경망을 설계하고 학습시킵니다."
   ]
  },
  {
   "cell_type": "code",
   "execution_count": null,
   "id": "5502eaeb",
   "metadata": {},
   "outputs": [],
   "source": [
    "\n",
    "from tensorflow.keras.models import Sequential\n",
    "from tensorflow.keras.layers import Dense\n",
    "\n",
    "# 모델 설계\n",
    "model = Sequential([\n",
    "    Dense(64, activation='relu', input_shape=(X_train.shape[1],)),\n",
    "    Dense(64, activation='relu'),\n",
    "    Dense(1)\n",
    "])\n",
    "\n",
    "# 모델 컴파일\n",
    "model.compile(optimizer='adam', loss='mse', metrics=['mae'])\n",
    "\n",
    "# 모델 학습\n",
    "history = model.fit(X_train, y_train, epochs=100, validation_split=0.2, verbose=1)\n"
   ]
  },
  {
   "cell_type": "markdown",
   "id": "8e6760f2",
   "metadata": {},
   "source": [
    "## 6. 모델 평가 및 시각화\n",
    "테스트 데이터를 사용해 모델을 평가하고, 예측 결과를 시각화합니다."
   ]
  },
  {
   "cell_type": "code",
   "execution_count": null,
   "id": "ccad3de2",
   "metadata": {},
   "outputs": [],
   "source": [
    "\n",
    "from sklearn.metrics import mean_squared_error, r2_score\n",
    "\n",
    "# 모델 예측\n",
    "y_pred = model.predict(X_test)\n",
    "\n",
    "# 성능 평가\n",
    "mse = mean_squared_error(y_test, y_pred)\n",
    "r2 = r2_score(y_test, y_pred)\n",
    "print(f\"Mean Squared Error: {mse:.2f}\")\n",
    "print(f\"R^2 Score: {r2:.2f}\")\n",
    "\n",
    "# 실제값과 예측값 비교 시각화\n",
    "plt.figure(figsize=(10, 6))\n",
    "plt.scatter(y_test, y_pred)\n",
    "plt.plot([y_test.min(), y_test.max()], [y_test.min(), y_test.max()], 'r--')\n",
    "plt.xlabel('Actual Prices')\n",
    "plt.ylabel('Predicted Prices')\n",
    "plt.title('Actual vs Predicted Prices')\n",
    "plt.show()\n"
   ]
  }
 ],
 "metadata": {},
 "nbformat": 4,
 "nbformat_minor": 5
}
